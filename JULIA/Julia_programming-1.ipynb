{
 "cells": [
  {
   "cell_type": "code",
   "execution_count": null,
   "id": "85a4c60c",
   "metadata": {},
   "outputs": [],
   "source": [
    "println(\"Hello, World!\")"
   ]
  },
  {
   "cell_type": "code",
   "execution_count": null,
   "id": "b5432780",
   "metadata": {},
   "outputs": [],
   "source": [
    "#Taking input from user\n",
    "print(\"What's your name?\\n\")\n",
    "name = readline()\n",
    "println(\"The name is \",name)"
   ]
  },
  {
   "cell_type": "code",
   "execution_count": null,
   "id": "766eb5b6",
   "metadata": {},
   "outputs": [],
   "source": [
    "#Basic Maths\n",
    "a = 1+2;\n",
    "b = 66/3;\n",
    "println(a*b)\n",
    "1+tan(3)"
   ]
  },
  {
   "cell_type": "code",
   "execution_count": null,
   "id": "d9252c5f",
   "metadata": {},
   "outputs": [],
   "source": [
    "s = 0\n",
    "for n = 1:2:200\n",
    "    s += 1\n",
    "end\n",
    "s"
   ]
  },
  {
   "cell_type": "code",
   "execution_count": null,
   "id": "c37c06c4",
   "metadata": {},
   "outputs": [],
   "source": [
    "r=rand(500,500)\n",
    "r' * r"
   ]
  }
 ],
 "metadata": {
  "kernelspec": {
   "display_name": "Julia 1.6.3",
   "language": "julia",
   "name": "julia-1.6"
  },
  "language_info": {
   "file_extension": ".jl",
   "mimetype": "application/julia",
   "name": "julia",
   "version": "1.6.3"
  }
 },
 "nbformat": 4,
 "nbformat_minor": 5
}
