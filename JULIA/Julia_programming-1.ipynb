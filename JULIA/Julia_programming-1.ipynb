{
 "cells": [
  {
   "cell_type": "code",
   "execution_count": 2,
   "id": "85a4c60c",
   "metadata": {},
   "outputs": [
    {
     "name": "stdout",
     "output_type": "stream",
     "text": [
      "Hello, World!\n"
     ]
    }
   ],
   "source": [
    "println(\"Hello, World!\")"
   ]
  },
  {
   "cell_type": "code",
   "execution_count": 3,
   "id": "b5432780",
   "metadata": {},
   "outputs": [
    {
     "name": "stdout",
     "output_type": "stream",
     "text": [
      "What's your name?\n",
      "stdin> MADMAX\n",
      "The name is MADMAX\n"
     ]
    }
   ],
   "source": [
    "#Taking input from user\n",
    "print(\"What's your name?\\n\")\n",
    "name = readline()\n",
    "println(\"The name is \",name)"
   ]
  },
  {
   "cell_type": "code",
   "execution_count": 4,
   "id": "766eb5b6",
   "metadata": {},
   "outputs": [
    {
     "name": "stdout",
     "output_type": "stream",
     "text": [
      "66.0\n"
     ]
    },
    {
     "data": {
      "text/plain": [
       "0.8574534569257222"
      ]
     },
     "execution_count": 4,
     "metadata": {},
     "output_type": "execute_result"
    }
   ],
   "source": [
    "#Basic Maths\n",
    "a = 1+2;\n",
    "b = 66/3;\n",
    "println(a*b)\n",
    "1+tan(3)"
   ]
  },
  {
   "cell_type": "code",
   "execution_count": 5,
   "id": "d9252c5f",
   "metadata": {},
   "outputs": [
    {
     "data": {
      "text/plain": [
       "100"
      ]
     },
     "execution_count": 5,
     "metadata": {},
     "output_type": "execute_result"
    }
   ],
   "source": [
    "s = 0\n",
    "for n = 1:2:200\n",
    "    s += 1\n",
    "end\n",
    "s"
   ]
  },
  {
   "cell_type": "code",
   "execution_count": 7,
   "id": "c37c06c4",
   "metadata": {},
   "outputs": [
    {
     "data": {
      "text/plain": [
       "500×500 Matrix{Float64}:\n",
       " 175.427  125.885  128.816  126.937  …  126.846  120.942  126.268  124.439\n",
       " 125.885  158.272  122.73   124.376     123.995  115.923  122.226  120.762\n",
       " 128.816  122.73   164.763  124.955     125.008  120.528  124.639  119.363\n",
       " 126.937  124.376  124.955  167.743     127.313  120.536  124.278  121.964\n",
       " 129.273  126.841  124.158  128.407     128.057  119.442  127.922  124.898\n",
       " 135.853  131.807  132.207  129.931  …  129.726  126.177  131.919  126.142\n",
       " 122.592  121.516  122.341  126.881     123.918  119.651  125.925  119.645\n",
       " 130.163  122.914  126.435  124.989     124.349  120.489  125.584  125.66\n",
       " 124.536  122.74   126.375  123.457     127.266  120.592  125.633  122.112\n",
       " 123.92   118.123  121.45   120.714     120.394  117.212  120.867  119.895\n",
       " 121.879  114.437  118.604  118.141  …  119.24   116.137  115.693  114.403\n",
       " 128.174  122.66   128.705  127.872     129.905  123.48   128.836  128.162\n",
       " 130.774  121.052  125.509  126.111     122.96   121.261  124.718  126.346\n",
       "   ⋮                                 ⋱                             \n",
       " 121.974  117.635  119.016  117.412     120.145  112.723  120.516  115.169\n",
       " 125.346  118.487  126.915  123.945     121.083  119.958  122.681  120.224\n",
       " 124.763  122.837  120.979  126.146  …  127.265  123.26   122.651  122.018\n",
       " 123.716  120.263  125.088  121.089     119.82   119.335  126.156  121.09\n",
       " 128.794  122.559  126.871  126.399     129.006  125.612  124.571  123.663\n",
       " 132.293  122.694  123.741  128.694     125.964  125.346  127.443  122.217\n",
       " 128.31   123.856  122.426  125.742     129.73   127.297  126.734  122.384\n",
       " 126.685  120.628  123.055  122.161  …  123.419  121.436  122.262  121.155\n",
       " 126.846  123.995  125.008  127.313     166.561  122.698  123.691  120.739\n",
       " 120.942  115.923  120.528  120.536     122.698  158.363  120.508  116.918\n",
       " 126.268  122.226  124.639  124.278     123.691  120.508  165.373  122.065\n",
       " 124.439  120.762  119.363  121.964     120.739  116.918  122.065  162.604"
      ]
     },
     "execution_count": 7,
     "metadata": {},
     "output_type": "execute_result"
    }
   ],
   "source": [
    "r=rand(500,500)\n",
    "r' * r"
   ]
  },
  {
   "cell_type": "code",
   "execution_count": null,
   "id": "b2402842",
   "metadata": {},
   "outputs": [],
   "source": []
  }
 ],
 "metadata": {
  "kernelspec": {
   "display_name": "Julia 1.6.3",
   "language": "julia",
   "name": "julia-1.6"
  },
  "language_info": {
   "file_extension": ".jl",
   "mimetype": "application/julia",
   "name": "julia",
   "version": "1.6.3"
  }
 },
 "nbformat": 4,
 "nbformat_minor": 5
}
